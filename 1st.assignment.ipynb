{
 "cells": [
  {
   "cell_type": "code",
   "execution_count": null,
   "id": "f0889375-1acb-448b-8db2-a8be820111bd",
   "metadata": {},
   "outputs": [],
   "source": [
    "  #Assignment 1\n",
    "    "
   ]
  },
  {
   "cell_type": "code",
   "execution_count": null,
   "id": "6ce0d3c9-1c7d-4943-a190-b96d46b471f8",
   "metadata": {},
   "outputs": [],
   "source": [
    " #1 Create one variable containing following type of data \n",
    "     "
   ]
  },
  {
   "cell_type": "code",
   "execution_count": null,
   "id": "91a15522-d5f0-469b-a818-b81d324b572f",
   "metadata": {},
   "outputs": [],
   "source": [
    "#(1) String"
   ]
  },
  {
   "cell_type": "code",
   "execution_count": null,
   "id": "bac9cd3b-c3bd-4a4c-851d-812f84db383b",
   "metadata": {},
   "outputs": [],
   "source": [
    "Nitin_string= \" Hello data science\""
   ]
  },
  {
   "cell_type": "code",
   "execution_count": null,
   "id": "fa71aff4-77f6-4042-8a00-c459e82a51e3",
   "metadata": {},
   "outputs": [],
   "source": [
    "print(type(Nitin_string))"
   ]
  },
  {
   "cell_type": "code",
   "execution_count": null,
   "id": "cdae35b1-dead-4a4b-94f5-6192acd9dc28",
   "metadata": {},
   "outputs": [],
   "source": [
    " #(2) list"
   ]
  },
  {
   "cell_type": "code",
   "execution_count": null,
   "id": "97b8fe79-56ae-48d1-8647-2b175702dada",
   "metadata": {},
   "outputs": [],
   "source": [
    "data_science_list = ['python', 'pandas', 'sql', 'powerBI', 23,36]"
   ]
  },
  {
   "cell_type": "code",
   "execution_count": null,
   "id": "4be2412e-ccf3-47aa-b57b-ed823b34c55f",
   "metadata": {},
   "outputs": [],
   "source": [
    "print(type(data_science_list))"
   ]
  },
  {
   "cell_type": "code",
   "execution_count": null,
   "id": "80eb58cb-25b9-43f7-a038-824e0f9aa78c",
   "metadata": {},
   "outputs": [],
   "source": [
    "#(3) Float\n"
   ]
  },
  {
   "cell_type": "code",
   "execution_count": null,
   "id": "0a032306-c894-48c1-ae16-76f9437fbc7d",
   "metadata": {},
   "outputs": [],
   "source": [
    "Nitin=9.08\n",
    "print(type(Nitin))"
   ]
  },
  {
   "cell_type": "code",
   "execution_count": null,
   "id": "2e82f75d-55de-4a81-99f0-7ad2edacb936",
   "metadata": {},
   "outputs": [],
   "source": [
    "#(4)Tuple\n",
    "Nitin_tuple= (1,2,3,41,\"Datascience\")\n",
    "              "
   ]
  },
  {
   "cell_type": "code",
   "execution_count": null,
   "id": "481079bd-86c8-47bf-8952-cbdf9a1bcebb",
   "metadata": {},
   "outputs": [],
   "source": [
    "print(type(Nitin_tuple))"
   ]
  },
  {
   "cell_type": "code",
   "execution_count": null,
   "id": "23b60cfa-af04-422b-b666-ef196c3786fe",
   "metadata": {},
   "outputs": [],
   "source": [
    "#2.The type of variable are\n",
    " #(1) var=' '   it is astring type variable"
   ]
  },
  {
   "cell_type": "code",
   "execution_count": null,
   "id": "08492e8c-5ec8-4f5e-a604-c726f3a1d727",
   "metadata": {},
   "outputs": [],
   "source": [
    " #var2 =[ DS, ML, Python] it is a list type variable"
   ]
  },
  {
   "cell_type": "code",
   "execution_count": 1,
   "id": "c131b349-6142-4832-a9fa-a2776275349c",
   "metadata": {},
   "outputs": [],
   "source": [
    "# var3= [ 'DS',' ML',' Python'] it is a list type variable"
   ]
  },
  {
   "cell_type": "code",
   "execution_count": 2,
   "id": "d6f12bda-d7f5-413d-b7ac-c2a442f34224",
   "metadata": {},
   "outputs": [],
   "source": [
    "# var=1 it is considred as interger type variable\n"
   ]
  },
  {
   "cell_type": "code",
   "execution_count": 3,
   "id": "13f61751-2b94-459d-bcb4-554219c501db",
   "metadata": {},
   "outputs": [],
   "source": [
    "#3. Explain the use of the following oprerators using one exmalple\n"
   ]
  },
  {
   "cell_type": "code",
   "execution_count": 4,
   "id": "a39cd692-466a-4ac7-8057-71d46c5317ff",
   "metadata": {},
   "outputs": [],
   "source": [
    " # 3.a / it divides the the numerator by denominator (only numbers or any variable assigned to a number) it gives float type data by defualt\n",
    "    \n",
    "    "
   ]
  },
  {
   "cell_type": "code",
   "execution_count": 5,
   "id": "1fff22be-5d2b-4704-ada5-01575c191ad8",
   "metadata": {},
   "outputs": [
    {
     "name": "stdout",
     "output_type": "stream",
     "text": [
      "<class 'float'>\n"
     ]
    }
   ],
   "source": [
    "print(type(13/4))"
   ]
  },
  {
   "cell_type": "code",
   "execution_count": 6,
   "id": "519f3484-d826-4414-a1c5-8c33a38685e1",
   "metadata": {},
   "outputs": [],
   "source": [
    "  # 3.b % it gives the remainder when divided  the numerator by denominator (only numbers or any variable assigned to a number) it gives int type data by defualt"
   ]
  },
  {
   "cell_type": "code",
   "execution_count": 7,
   "id": "493c75c2-d21b-453d-9bb3-32b0e1e24783",
   "metadata": {},
   "outputs": [
    {
     "name": "stdout",
     "output_type": "stream",
     "text": [
      "2\n"
     ]
    }
   ],
   "source": [
    "print (14%3)"
   ]
  },
  {
   "cell_type": "code",
   "execution_count": 8,
   "id": "88add7f0-ccd1-4267-b75e-bb70559300be",
   "metadata": {},
   "outputs": [],
   "source": [
    "#3.c // it gives the nearest whole number when the numerator is divded by denpminator"
   ]
  },
  {
   "cell_type": "code",
   "execution_count": 9,
   "id": "f6ef7870-b5b2-4103-9f46-d2aa04668b7f",
   "metadata": {},
   "outputs": [
    {
     "name": "stdout",
     "output_type": "stream",
     "text": [
      "8\n"
     ]
    }
   ],
   "source": [
    " print(25//3)"
   ]
  },
  {
   "cell_type": "code",
   "execution_count": 10,
   "id": "35dc267d-5b54-42e3-9360-57c1a0f9aca9",
   "metadata": {},
   "outputs": [],
   "source": [
    " # 3.d ** it is the exponential operator it raise the power of the former number to the later number\n",
    "   "
   ]
  },
  {
   "cell_type": "code",
   "execution_count": 11,
   "id": "8f6692c1-fe66-405d-ab4f-bf5c21f7acae",
   "metadata": {},
   "outputs": [
    {
     "name": "stdout",
     "output_type": "stream",
     "text": [
      "243\n"
     ]
    }
   ],
   "source": [
    " print(3**5)"
   ]
  },
  {
   "cell_type": "code",
   "execution_count": 12,
   "id": "db5e7254-85fb-4bcb-8349-c6750c73a981",
   "metadata": {},
   "outputs": [],
   "source": [
    "#4. Create a list of length 10 of your choice containing multiple type of data> Using for loop print the element and its datatype"
   ]
  },
  {
   "cell_type": "code",
   "execution_count": 20,
   "id": "35223072-f667-493e-ad70-a7bf08cb8b72",
   "metadata": {},
   "outputs": [],
   "source": [
    "nitin_list=['datascience','python',[1,5,9],30.4,29,'github','machine learning',45,'name',88.236]"
   ]
  },
  {
   "cell_type": "code",
   "execution_count": 25,
   "id": "a2760bd6-b53b-4ef2-b530-aa837a94538b",
   "metadata": {},
   "outputs": [
    {
     "name": "stdout",
     "output_type": "stream",
     "text": [
      "Element: datascience |data type: <class 'str'>\n",
      "Element: python |data type: <class 'str'>\n",
      "Element: [1, 5, 9] |data type: <class 'list'>\n",
      "Element: 30.4 |data type: <class 'float'>\n",
      "Element: 29 |data type: <class 'int'>\n",
      "Element: github |data type: <class 'str'>\n",
      "Element: machine learning |data type: <class 'str'>\n",
      "Element: 45 |data type: <class 'int'>\n",
      "Element: name |data type: <class 'str'>\n",
      "Element: 88.236 |data type: <class 'float'>\n"
     ]
    }
   ],
   "source": [
    "for i in nitin_list  :\n",
    "    print(\"Element:\",i,\"|data type:\", type(i))\n",
    "    "
   ]
  },
  {
   "cell_type": "code",
   "execution_count": null,
   "id": "512089f6-a797-42b7-8698-00d290d3b67d",
   "metadata": {},
   "outputs": [],
   "source": [
    "#5.Using a while loop verify if the number is purely divisible by number B and if so then how many times it can be divisible"
   ]
  },
  {
   "cell_type": "code",
   "execution_count": null,
   "id": "2ced8749-c9a1-4619-94a6-98e3b2f725fd",
   "metadata": {},
   "outputs": [],
   "source": [
    " # taking the input from user of two number let A and B and then proceeding as per instruction\n",
    "    "
   ]
  },
  {
   "cell_type": "code",
   "execution_count": 8,
   "id": "2d256654-66cc-4781-85b1-f99dbc869509",
   "metadata": {},
   "outputs": [
    {
     "name": "stdin",
     "output_type": "stream",
     "text": [
      "Enter the value of A 300\n",
      "enter the value of B 100\n"
     ]
    },
    {
     "name": "stdout",
     "output_type": "stream",
     "text": [
      "{A}is not purely divided by {B}.\n"
     ]
    }
   ],
   "source": [
    "A=int(input(\"Enter the value of A\"))\n",
    "B=int(input(\"enter the value of B\"))\n",
    "count=0\n",
    "while A%B==0 :\n",
    "    A//=B\n",
    "    count+=1\n",
    "    if A==0:\n",
    "        print(A, \"is purely divisible by {B} and can be divided by [count] times.\")\n",
    "    else:\n",
    "        print(\"{A}is not purely divided by {B}.\")"
   ]
  },
  {
   "cell_type": "code",
   "execution_count": 18,
   "id": "a6edf934-def9-411e-a460-414633b8b66e",
   "metadata": {},
   "outputs": [
    {
     "name": "stdout",
     "output_type": "stream",
     "text": [
      "[3] The number is divisible by 3\n",
      "[4] The number is not divisible by 3\n",
      "[5] The number is not divisible by 3\n",
      "[6] The number is divisible by 3\n",
      "[7] The number is not divisible by 3\n",
      "[8] The number is not divisible by 3\n",
      "[9] The number is divisible by 3\n",
      "[10] The number is not divisible by 3\n",
      "[11] The number is not divisible by 3\n",
      "[12] The number is divisible by 3\n",
      "[13] The number is not divisible by 3\n",
      "[14] The number is not divisible by 3\n",
      "[15] The number is divisible by 3\n",
      "[16] The number is not divisible by 3\n",
      "[17] The number is not divisible by 3\n",
      "[18] The number is divisible by 3\n",
      "[19] The number is not divisible by 3\n",
      "[20] The number is not divisible by 3\n",
      "[21] The number is divisible by 3\n",
      "[22] The number is not divisible by 3\n"
     ]
    },
    {
     "ename": "IndexError",
     "evalue": "list index out of range",
     "output_type": "error",
     "traceback": [
      "\u001b[0;31m---------------------------------------------------------------------------\u001b[0m",
      "\u001b[0;31mIndexError\u001b[0m                                Traceback (most recent call last)",
      "Cell \u001b[0;32mIn[18], line 3\u001b[0m\n\u001b[1;32m      1\u001b[0m list1\u001b[38;5;241m=\u001b[39m[\u001b[38;5;241m3\u001b[39m,\u001b[38;5;241m4\u001b[39m,\u001b[38;5;241m5\u001b[39m,\u001b[38;5;241m6\u001b[39m,\u001b[38;5;241m7\u001b[39m,\u001b[38;5;241m8\u001b[39m,\u001b[38;5;241m9\u001b[39m,\u001b[38;5;241m10\u001b[39m,\u001b[38;5;241m11\u001b[39m,\u001b[38;5;241m12\u001b[39m,\u001b[38;5;241m13\u001b[39m,\u001b[38;5;241m14\u001b[39m,\u001b[38;5;241m15\u001b[39m,\u001b[38;5;241m16\u001b[39m,\u001b[38;5;241m17\u001b[39m,\u001b[38;5;241m18\u001b[39m,\u001b[38;5;241m19\u001b[39m,\u001b[38;5;241m20\u001b[39m,\u001b[38;5;241m21\u001b[39m,\u001b[38;5;241m22\u001b[39m,\u001b[38;5;241m23\u001b[39m,\u001b[38;5;241m24\u001b[39m,\u001b[38;5;241m25\u001b[39m]\n\u001b[1;32m      2\u001b[0m \u001b[38;5;28;01mfor\u001b[39;00m i \u001b[38;5;129;01min\u001b[39;00m list1:\n\u001b[0;32m----> 3\u001b[0m     \u001b[38;5;28;01mif\u001b[39;00m \u001b[43mlist1\u001b[49m\u001b[43m[\u001b[49m\u001b[43mi\u001b[49m\u001b[43m]\u001b[49m\u001b[38;5;241m%\u001b[39m\u001b[38;5;241m3\u001b[39m\u001b[38;5;241m==\u001b[39m\u001b[38;5;241m0\u001b[39m:\n\u001b[1;32m      4\u001b[0m          \u001b[38;5;28mprint\u001b[39m([i],\u001b[38;5;124m\"\u001b[39m\u001b[38;5;124mThe number is divisible by 3\u001b[39m\u001b[38;5;124m\"\u001b[39m)\n\u001b[1;32m      6\u001b[0m     \u001b[38;5;28;01melse\u001b[39;00m:\n",
      "\u001b[0;31mIndexError\u001b[0m: list index out of range"
     ]
    }
   ],
   "source": [
    "list1=[3,4,5,6,7,8,9,10,11,12,13,14,15,16,17,18,19,20,21,22,23,24,25] # 6. Create a list containing 25 int type data using for loop and if else condition print if the element is divisble by 3 or not\n",
    "for i in list1:\n",
    "    if list1[i]%3==0:\n",
    "         print([i],\"The number is divisible by 3\")\n",
    "  \n",
    "    else:\n",
    "        print([i],\"The number is not divisible by 3\")\n",
    "         \n",
    "        "
   ]
  },
  {
   "cell_type": "code",
   "execution_count": 10,
   "id": "842908f1-59ed-4c0e-aa83-934bd0040972",
   "metadata": {},
   "outputs": [],
   "source": [
    "#7. What do u understand about mutable and immutable data types? Give example for both showing this property.\n",
    " # Mutable data types variable are variable which can be modified and asssigned new values.like string and list, list is a mutuable data type and string is immutable data type\n",
    "    "
   ]
  },
  {
   "cell_type": "code",
   "execution_count": null,
   "id": "d69b8bc8-6a4a-4ff4-b359-4fcad4928923",
   "metadata": {},
   "outputs": [],
   "source": [
    "name= \"nitin\"\n",
    "name[1]= \"w\"    # this will give error as it is not mutuable and value of string can not be assigned"
   ]
  },
  {
   "cell_type": "code",
   "execution_count": 7,
   "id": "7407f354-bcfe-4c9c-98d8-4ac9a10a4a10",
   "metadata": {},
   "outputs": [],
   "source": [
    "list2=[2,3,10,11,11.11]\n"
   ]
  },
  {
   "cell_type": "code",
   "execution_count": 11,
   "id": "a49cef4d-13a1-4493-92c5-33f7d38f050f",
   "metadata": {},
   "outputs": [],
   "source": [
    "list2[2]=5   # here list2 which is a list type variable is muruable and new values can be assigned for its element"
   ]
  },
  {
   "cell_type": "code",
   "execution_count": 12,
   "id": "d2298c8f-fbaf-4f23-9d94-b73ae48cb7be",
   "metadata": {},
   "outputs": [
    {
     "data": {
      "text/plain": [
       "[2, 3, 5, 11, 11.11]"
      ]
     },
     "execution_count": 12,
     "metadata": {},
     "output_type": "execute_result"
    }
   ],
   "source": [
    "list2"
   ]
  },
  {
   "cell_type": "code",
   "execution_count": null,
   "id": "2f5e78e3-4a6f-4071-81f6-4293282717a6",
   "metadata": {},
   "outputs": [],
   "source": []
  },
  {
   "cell_type": "code",
   "execution_count": null,
   "id": "e9bb55e6-8375-4eb7-af45-781a27980a9c",
   "metadata": {},
   "outputs": [],
   "source": []
  }
 ],
 "metadata": {
  "kernelspec": {
   "display_name": "Python 3 (ipykernel)",
   "language": "python",
   "name": "python3"
  },
  "language_info": {
   "codemirror_mode": {
    "name": "ipython",
    "version": 3
   },
   "file_extension": ".py",
   "mimetype": "text/x-python",
   "name": "python",
   "nbconvert_exporter": "python",
   "pygments_lexer": "ipython3",
   "version": "3.10.8"
  }
 },
 "nbformat": 4,
 "nbformat_minor": 5
}
