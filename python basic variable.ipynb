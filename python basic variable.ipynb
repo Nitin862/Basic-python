{
 "cells": [
  {
   "cell_type": "code",
   "execution_count": 1,
   "id": "0550cd5f-5302-4351-83f2-b891a8e9295e",
   "metadata": {},
   "outputs": [
    {
     "data": {
      "text/plain": [
       "'1. Declare two variables, `x` and `y`, and assign them integer values. Swap the\\nvalues of these variables without using any temporary variable.'"
      ]
     },
     "execution_count": 1,
     "metadata": {},
     "output_type": "execute_result"
    }
   ],
   "source": [
    "'''1. Declare two variables, `x` and `y`, and assign them integer values. Swap the\n",
    "values of these variables without using any temporary variable.'''"
   ]
  },
  {
   "cell_type": "code",
   "execution_count": 5,
   "id": "5352ae59-9ea3-4143-8abb-2be302639d14",
   "metadata": {},
   "outputs": [
    {
     "name": "stdout",
     "output_type": "stream",
     "text": [
      "The value of x: 10 the value of y: 5\n"
     ]
    }
   ],
   "source": [
    "x = 5\n",
    "y = 10\n",
    "x = x + y\n",
    "y = x - y\n",
    "x = x - y\n",
    "print(f\"The value of x:\",x,\"the value of y:\",y)\n"
   ]
  },
  {
   "cell_type": "code",
   "execution_count": 3,
   "id": "e9a724c5-ee4d-4eb5-874c-ef47c18c3de0",
   "metadata": {},
   "outputs": [
    {
     "data": {
      "text/plain": [
       "7"
      ]
     },
     "execution_count": 3,
     "metadata": {},
     "output_type": "execute_result"
    }
   ],
   "source": [
    "x\n"
   ]
  },
  {
   "cell_type": "code",
   "execution_count": 4,
   "id": "61c4eb3a-e9cd-49e0-8948-95d02f9fa0ed",
   "metadata": {},
   "outputs": [
    {
     "data": {
      "text/plain": [
       "7"
      ]
     },
     "execution_count": 4,
     "metadata": {},
     "output_type": "execute_result"
    }
   ],
   "source": [
    "y"
   ]
  },
  {
   "cell_type": "code",
   "execution_count": 6,
   "id": "56fd44b5-cd27-4636-8d25-05041f306a5a",
   "metadata": {},
   "outputs": [
    {
     "data": {
      "text/plain": [
       "'2. Create a program that calculates the area of a rectangle. Take the length and\\nwidth as inputs from the user and store them in variables. Calculate and\\ndisplay the area.'"
      ]
     },
     "execution_count": 6,
     "metadata": {},
     "output_type": "execute_result"
    }
   ],
   "source": [
    "'''2. Create a program that calculates the area of a rectangle. Take the length and\n",
    "width as inputs from the user and store them in variables. Calculate and\n",
    "display the area.'''"
   ]
  },
  {
   "cell_type": "code",
   "execution_count": 11,
   "id": "ff1f370c-6b31-47bc-a503-1e3d00fe9a2e",
   "metadata": {},
   "outputs": [],
   "source": [
    "def area():\n",
    "    a=int(input(\"Enter the length of rectangle\"))\n",
    "    b=int(input(\"Enter the breadth of rectangle\"))\n",
    "    c=a*b\n",
    "    print(f\"The area of rectangle is\", c)"
   ]
  },
  {
   "cell_type": "code",
   "execution_count": 13,
   "id": "7c81e54b-fd68-4b5f-a25c-fbc35363fc7b",
   "metadata": {},
   "outputs": [
    {
     "name": "stdin",
     "output_type": "stream",
     "text": [
      "Enter the length of rectangle 45\n",
      "Enter the breadth of rectangle 56\n"
     ]
    },
    {
     "name": "stdout",
     "output_type": "stream",
     "text": [
      "The area of rectangle is 2520\n"
     ]
    }
   ],
   "source": [
    "area()"
   ]
  },
  {
   "cell_type": "code",
   "execution_count": 14,
   "id": "117cd30f-e305-45ee-a0f2-a450201ea8d4",
   "metadata": {},
   "outputs": [
    {
     "data": {
      "text/plain": [
       "'3. Write a Python program that converts temperatures from Celsius to\\nFahrenheit. Take the temperature in Celsius as input, store it in a variable,\\nconvert it to Fahrenheit, and display the result.'"
      ]
     },
     "execution_count": 14,
     "metadata": {},
     "output_type": "execute_result"
    }
   ],
   "source": [
    "'''3. Write a Python program that converts temperatures from Celsius to\n",
    "Fahrenheit. Take the temperature in Celsius as input, store it in a variable,\n",
    "convert it to Fahrenheit, and display the result.'''"
   ]
  },
  {
   "cell_type": "code",
   "execution_count": 20,
   "id": "5c7d4f2a-a974-4279-828d-ab34d462a517",
   "metadata": {},
   "outputs": [],
   "source": [
    "def tempc_tof():\n",
    "    c=float(input(\"Enter the temp in celcius\"))\n",
    "    d=(c*9/5) +32\n",
    "    return \"The fareheight is \",d"
   ]
  },
  {
   "cell_type": "code",
   "execution_count": 18,
   "id": "731fa26f-2388-45ba-b791-81d6a9bc1cc0",
   "metadata": {},
   "outputs": [
    {
     "name": "stdin",
     "output_type": "stream",
     "text": [
      "Enter the temp in celcius 56\n"
     ]
    },
    {
     "data": {
      "text/plain": [
       "('The fareheight is ', 132.8)"
      ]
     },
     "execution_count": 18,
     "metadata": {},
     "output_type": "execute_result"
    }
   ],
   "source": [
    "tempc_tof()"
   ]
  },
  {
   "cell_type": "code",
   "execution_count": 21,
   "id": "ef30c697-76e0-48fd-b8b3-8036a29121dd",
   "metadata": {},
   "outputs": [
    {
     "data": {
      "text/plain": [
       "'TOPIC: String Based Questions'"
      ]
     },
     "execution_count": 21,
     "metadata": {},
     "output_type": "execute_result"
    }
   ],
   "source": [
    "'''TOPIC: String Based Questions'''"
   ]
  },
  {
   "cell_type": "code",
   "execution_count": 23,
   "id": "1541f983-062a-4ef2-b85f-0f106c84fc82",
   "metadata": {},
   "outputs": [
    {
     "data": {
      "text/plain": [
       "'1. Write a Python program that takes a string as input and prints the length of\\nthe string.'"
      ]
     },
     "execution_count": 23,
     "metadata": {},
     "output_type": "execute_result"
    }
   ],
   "source": [
    "'''1. Write a Python program that takes a string as input and prints the length of\n",
    "the string.'''\n"
   ]
  },
  {
   "cell_type": "code",
   "execution_count": 25,
   "id": "d374789e-4325-46a7-bae9-b3ae4fd024e5",
   "metadata": {},
   "outputs": [
    {
     "name": "stdin",
     "output_type": "stream",
     "text": [
      "Enter the string  nitin\n"
     ]
    },
    {
     "name": "stdout",
     "output_type": "stream",
     "text": [
      "5\n"
     ]
    }
   ],
   "source": [
    "g=str(input(\"Enter the string \"))\n",
    "print(len(g))"
   ]
  },
  {
   "cell_type": "code",
   "execution_count": 26,
   "id": "feaba00c-17f1-4eb5-a3e2-75c7c46b9bb3",
   "metadata": {},
   "outputs": [
    {
     "data": {
      "text/plain": [
       "'2. Create a program that takes a sentence from the user and counts the number\\nof vowels (a, e, i, o, u) in the string.'"
      ]
     },
     "execution_count": 26,
     "metadata": {},
     "output_type": "execute_result"
    }
   ],
   "source": [
    "'''2. Create a program that takes a sentence from the user and counts the number\n",
    "of vowels (a, e, i, o, u) in the string.'''"
   ]
  },
  {
   "cell_type": "code",
   "execution_count": 31,
   "id": "109590ea-d512-47b2-9009-a7bb3ce3a844",
   "metadata": {},
   "outputs": [],
   "source": [
    "def count_vowel():\n",
    "    b=str(input(\"Enter the string\"))\n",
    "    a=b.lower()\n",
    "    vowel=\"aeiou\"\n",
    "    count=0\n",
    "    for i in a:\n",
    "        if i in vowel:\n",
    "            count=count+1\n",
    "            \n",
    "    print(count)"
   ]
  },
  {
   "cell_type": "code",
   "execution_count": 33,
   "id": "cf465f28-05e7-41ec-98d7-5f00d1280643",
   "metadata": {},
   "outputs": [
    {
     "name": "stdin",
     "output_type": "stream",
     "text": [
      "Enter the string nitin\n"
     ]
    },
    {
     "name": "stdout",
     "output_type": "stream",
     "text": [
      "2\n"
     ]
    }
   ],
   "source": [
    "count_vowel()"
   ]
  },
  {
   "cell_type": "code",
   "execution_count": 34,
   "id": "ef107ba2-e977-4115-b063-e52c805c2238",
   "metadata": {},
   "outputs": [
    {
     "data": {
      "text/plain": [
       "'3. Given a string, reverse the order of characters using string slicing and print\\nthe reversed string.'"
      ]
     },
     "execution_count": 34,
     "metadata": {},
     "output_type": "execute_result"
    }
   ],
   "source": [
    "'''3. Given a string, reverse the order of characters using string slicing and print\n",
    "the reversed string.'''"
   ]
  },
  {
   "cell_type": "code",
   "execution_count": 37,
   "id": "08670cc3-204d-419d-b558-4abeba3da012",
   "metadata": {},
   "outputs": [
    {
     "name": "stdin",
     "output_type": "stream",
     "text": [
      "Enter the string NiTin\n"
     ]
    },
    {
     "name": "stdout",
     "output_type": "stream",
     "text": [
      "nitin\n"
     ]
    }
   ],
   "source": [
    "w=str(input(\"Enter the string\"))\n",
    "w1=w.lower()\n",
    "w2=w1.strip()\n",
    "w3=w2[::-1]\n",
    "print(w3)"
   ]
  },
  {
   "cell_type": "code",
   "execution_count": 38,
   "id": "45d09d17-2e42-4590-aad7-f90788303326",
   "metadata": {},
   "outputs": [
    {
     "data": {
      "text/plain": [
       "'4. Write a program that takes a string as input and checks if it is a palindrome\\n(reads the same forwards and backwards).'"
      ]
     },
     "execution_count": 38,
     "metadata": {},
     "output_type": "execute_result"
    }
   ],
   "source": [
    "'''4. Write a program that takes a string as input and checks if it is a palindrome\n",
    "(reads the same forwards and backwards).'''"
   ]
  },
  {
   "cell_type": "code",
   "execution_count": 39,
   "id": "1d6a8c8c-ef3e-4ba2-8a0b-ce31d16ac1d9",
   "metadata": {},
   "outputs": [
    {
     "name": "stdin",
     "output_type": "stream",
     "text": [
      "Enter the string Nitin\n"
     ]
    },
    {
     "name": "stdout",
     "output_type": "stream",
     "text": [
      "It is pallingdrome\n"
     ]
    }
   ],
   "source": [
    "w=str(input(\"Enter the string\"))\n",
    "w1=w.lower()\n",
    "w2=w1.strip()\n",
    "w3=w2[::-1]\n",
    "if w3==w2 :\n",
    "    print(\"It is pallingdrome\")\n",
    "else:\n",
    "    print(\"It is not pallingdrome\")"
   ]
  },
  {
   "cell_type": "code",
   "execution_count": 40,
   "id": "08fb8905-5046-4a71-8e3d-da4f51d4ceb8",
   "metadata": {},
   "outputs": [
    {
     "data": {
      "text/plain": [
       "'5. Create a program that takes a string as input and removes all the spaces from\\nit. Print the modified string without spaces.'"
      ]
     },
     "execution_count": 40,
     "metadata": {},
     "output_type": "execute_result"
    }
   ],
   "source": [
    "'''5. Create a program that takes a string as input and removes all the spaces from\n",
    "it. Print the modified string without spaces.'''"
   ]
  },
  {
   "cell_type": "code",
   "execution_count": 49,
   "id": "f3958c0c-5753-492e-a642-b8e86ea2877b",
   "metadata": {},
   "outputs": [
    {
     "name": "stdin",
     "output_type": "stream",
     "text": [
      "Enter the string nn jj kk\n"
     ]
    },
    {
     "name": "stdout",
     "output_type": "stream",
     "text": [
      "nnjjkk\n"
     ]
    }
   ],
   "source": [
    "w=str(input(\"Enter the string\"))\n",
    "w1=w.lower()\n",
    "w2=w1.replace(' ','')\n",
    "print(w2)"
   ]
  },
  {
   "cell_type": "code",
   "execution_count": 48,
   "id": "78d003c0-3a9b-42e8-81a9-7c2c42318eca",
   "metadata": {},
   "outputs": [
    {
     "data": {
      "text/plain": [
       "'nnnjjjjkkkk'"
      ]
     },
     "execution_count": 48,
     "metadata": {},
     "output_type": "execute_result"
    }
   ],
   "source": []
  },
  {
   "cell_type": "code",
   "execution_count": null,
   "id": "73cb7722-b3b8-4baf-865b-fd76138734bd",
   "metadata": {},
   "outputs": [],
   "source": []
  }
 ],
 "metadata": {
  "kernelspec": {
   "display_name": "Python 3 (ipykernel)",
   "language": "python",
   "name": "python3"
  },
  "language_info": {
   "codemirror_mode": {
    "name": "ipython",
    "version": 3
   },
   "file_extension": ".py",
   "mimetype": "text/x-python",
   "name": "python",
   "nbconvert_exporter": "python",
   "pygments_lexer": "ipython3",
   "version": "3.10.8"
  }
 },
 "nbformat": 4,
 "nbformat_minor": 5
}
