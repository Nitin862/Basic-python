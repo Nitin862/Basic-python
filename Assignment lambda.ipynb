{
 "cells": [
  {
   "cell_type": "code",
   "execution_count": 1,
   "id": "7454d0e2-2828-41a2-a722-cbfcd9cad9aa",
   "metadata": {},
   "outputs": [
    {
     "data": {
      "text/plain": [
       "'1.Q1. Create a python program to sort the given list of tuples based on integer value using a\\nlambda function.'"
      ]
     },
     "execution_count": 1,
     "metadata": {},
     "output_type": "execute_result"
    }
   ],
   "source": [
    "'''1.Q1. Create a python program to sort the given list of tuples based on integer value using a\n",
    "lambda function.'''"
   ]
  },
  {
   "cell_type": "code",
   "execution_count": 3,
   "id": "8cf47be8-6fef-4bdc-84cc-7bba50b7914d",
   "metadata": {},
   "outputs": [
    {
     "name": "stdout",
     "output_type": "stream",
     "text": [
      "Sorted list of tuples: [[('Sachin Tendulkar', 34357), ('Ricky Ponting', 27483), ('Jack Kallis', 25534), ('Virat Kohli', 24936)]]\n"
     ]
    }
   ],
   "source": [
    "\n",
    "list_of_tuples = [[('Sachin Tendulkar', 34357), ('Ricky Ponting', 27483), ('Jack Kallis', 25534), ('Virat Kohli', 24936)]]\n",
    "\n",
    "sorted_list = sorted(list_of_tuples, key=lambda x: x[1])\n",
    "print(\"Sorted list of tuples:\", sorted_list)\n"
   ]
  },
  {
   "cell_type": "code",
   "execution_count": 4,
   "id": "62d9bd50-17b4-43c2-84bb-ee7ce46a90da",
   "metadata": {},
   "outputs": [
    {
     "data": {
      "text/plain": [
       "'2.Write a Python Program to find the squares of all the numbers in the given list of integers using\\nlambda and map functions.\\n[1, 2, 3, 4, 5, 6, 7, 8, 9, 10]'"
      ]
     },
     "execution_count": 4,
     "metadata": {},
     "output_type": "execute_result"
    }
   ],
   "source": [
    "'''2.Write a Python Program to find the squares of all the numbers in the given list of integers using\n",
    "lambda and map functions.\n",
    "[1, 2, 3, 4, 5, 6, 7, 8, 9, 10]'''"
   ]
  },
  {
   "cell_type": "code",
   "execution_count": 5,
   "id": "5e6014ab-e873-4497-be1c-a8b4f70f2407",
   "metadata": {},
   "outputs": [
    {
     "name": "stdout",
     "output_type": "stream",
     "text": [
      "Squares of all the numbers: [1, 4, 9, 16, 25, 36, 49, 64, 81, 100]\n"
     ]
    }
   ],
   "source": [
    "\n",
    "numbers = [1, 2, 3, 4, 5, 6, 7, 8, 9, 10]\n",
    "\n",
    "squared_numbers = list(map(lambda x: x ** 2, numbers))\n",
    "\n",
    "print(\"Squares of all the numbers:\", squared_numbers)\n"
   ]
  },
  {
   "cell_type": "code",
   "execution_count": 6,
   "id": "6ba9620e-5643-4e0d-b916-8e9564a440cc",
   "metadata": {},
   "outputs": [
    {
     "data": {
      "text/plain": [
       "\"Q3. Write a python program to convert the given list of integers into a tuple of strings. Use map and\\nlambda functions\\nGiven String: [1, 2, 3, 4, 5, 6, 7, 8, 9, 10]\\nExpected output: ('1', '2', '3', '4', '5', '6', '7', '8', '9', '10')\""
      ]
     },
     "execution_count": 6,
     "metadata": {},
     "output_type": "execute_result"
    }
   ],
   "source": [
    "'''Q3. Write a python program to convert the given list of integers into a tuple of strings. Use map and\n",
    "lambda functions\n",
    "Given String: [1, 2, 3, 4, 5, 6, 7, 8, 9, 10]\n",
    "Expected output: ('1', '2', '3', '4', '5', '6', '7', '8', '9', '10')'''"
   ]
  },
  {
   "cell_type": "code",
   "execution_count": 7,
   "id": "268bebd9-da18-4ffb-b6f5-3830d92f8900",
   "metadata": {},
   "outputs": [
    {
     "name": "stdout",
     "output_type": "stream",
     "text": [
      "Tuple of strings: ('1', '2', '3', '4', '5', '6', '7', '8', '9', '10')\n"
     ]
    }
   ],
   "source": [
    "\n",
    "numbers = [1, 2, 3, 4, 5, 6, 7, 8, 9, 10]\n",
    "\n",
    "string_tuple = tuple(map(lambda x: str(x), numbers))\n",
    "\n",
    "print(\"Tuple of strings:\", string_tuple)\n"
   ]
  },
  {
   "cell_type": "code",
   "execution_count": 8,
   "id": "50d58bf9-5bdd-45de-aee0-85b8f6b8cb2f",
   "metadata": {},
   "outputs": [
    {
     "data": {
      "text/plain": [
       "'Q4. Write a python program using reduce function to compute the product of a list containing numbers\\nfrom 1 to 25.'"
      ]
     },
     "execution_count": 8,
     "metadata": {},
     "output_type": "execute_result"
    }
   ],
   "source": [
    "'''Q4. Write a python program using reduce function to compute the product of a list containing numbers\n",
    "from 1 to 25.'''"
   ]
  },
  {
   "cell_type": "code",
   "execution_count": 9,
   "id": "58fd7c2e-a3a7-4286-801c-e7efc8ad9ce5",
   "metadata": {},
   "outputs": [
    {
     "name": "stdout",
     "output_type": "stream",
     "text": [
      "Product of numbers from 1 to 25: 15511210043330985984000000\n"
     ]
    }
   ],
   "source": [
    "from functools import reduce\n",
    "\n",
    "numbers = list(range(1, 26))\n",
    "\n",
    "product = reduce(lambda x, y: x * y, numbers)\n",
    "\n",
    "print(\"Product of numbers from 1 to 25:\", product)\n"
   ]
  },
  {
   "cell_type": "code",
   "execution_count": 10,
   "id": "b06e7c6a-ba94-4be4-9c76-9b537e7533f1",
   "metadata": {},
   "outputs": [
    {
     "data": {
      "text/plain": [
       "'Q5. Write a python program to filter the numbers in a given list that are divisible by 2 and 3 using the\\nfilter function.\\n[2, 3, 6, 9, 27, 60, 90, 120, 55, 46]'"
      ]
     },
     "execution_count": 10,
     "metadata": {},
     "output_type": "execute_result"
    }
   ],
   "source": [
    "'''Q5. Write a python program to filter the numbers in a given list that are divisible by 2 and 3 using the\n",
    "filter function.\n",
    "[2, 3, 6, 9, 27, 60, 90, 120, 55, 46]'''"
   ]
  },
  {
   "cell_type": "code",
   "execution_count": 11,
   "id": "41c4b98c-0869-4276-9427-dd6a5c116c4c",
   "metadata": {},
   "outputs": [
    {
     "name": "stdout",
     "output_type": "stream",
     "text": [
      "Numbers divisible by both 2 and 3: [6, 60, 90, 120]\n"
     ]
    }
   ],
   "source": [
    "\n",
    "numbers = [2, 3, 6, 9, 27, 60, 90, 120, 55, 46]\n",
    "\n",
    "filtered_numbers = filter(lambda x: x % 2 == 0 and x % 3 == 0, numbers)\n",
    "\n",
    "filtered_list = list(filtered_numbers)\n",
    "\n",
    "print(\"Numbers divisible by both 2 and 3:\", filtered_list)\n"
   ]
  },
  {
   "cell_type": "code",
   "execution_count": 12,
   "id": "3ceb8216-7505-48e0-b6ac-4201dc30b116",
   "metadata": {},
   "outputs": [
    {
     "data": {
      "text/plain": [
       "\"Q6. Write a python program to find palindromes in the given list of strings using lambda and filter\\nfunction.\\n['python', 'php', 'aba', 'radar', 'level']\""
      ]
     },
     "execution_count": 12,
     "metadata": {},
     "output_type": "execute_result"
    }
   ],
   "source": [
    "'''Q6. Write a python program to find palindromes in the given list of strings using lambda and filter\n",
    "function.\n",
    "['python', 'php', 'aba', 'radar', 'level']'''"
   ]
  },
  {
   "cell_type": "code",
   "execution_count": 13,
   "id": "837da6dd-38ff-4a4c-a468-7b69351c70c0",
   "metadata": {},
   "outputs": [
    {
     "name": "stdout",
     "output_type": "stream",
     "text": [
      "Palindromes in the list: ['php', 'aba', 'radar', 'level']\n"
     ]
    }
   ],
   "source": [
    "\n",
    "strings = ['python', 'php', 'aba', 'radar', 'level']\n",
    "\n",
    "palindromes = filter(lambda s: s == s[::-1], strings)\n",
    "\n",
    "palindrome_list = list(palindromes)\n",
    "\n",
    "print(\"Palindromes in the list:\", palindrome_list)\n"
   ]
  },
  {
   "cell_type": "code",
   "execution_count": null,
   "id": "9df55846-6308-453e-b24f-f13460d6e00d",
   "metadata": {},
   "outputs": [],
   "source": []
  }
 ],
 "metadata": {
  "kernelspec": {
   "display_name": "Python 3 (ipykernel)",
   "language": "python",
   "name": "python3"
  },
  "language_info": {
   "codemirror_mode": {
    "name": "ipython",
    "version": 3
   },
   "file_extension": ".py",
   "mimetype": "text/x-python",
   "name": "python",
   "nbconvert_exporter": "python",
   "pygments_lexer": "ipython3",
   "version": "3.10.8"
  }
 },
 "nbformat": 4,
 "nbformat_minor": 5
}
